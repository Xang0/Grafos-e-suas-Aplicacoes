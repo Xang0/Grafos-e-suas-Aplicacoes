{
 "cells": [
  {
   "cell_type": "markdown",
   "id": "1531dab8",
   "metadata": {},
   "source": [
    "# Etapa 1"
   ]
  },
  {
   "cell_type": "code",
   "execution_count": 1,
   "id": "af51b369",
   "metadata": {},
   "outputs": [],
   "source": [
    "# Importando as funções para leitura do arquivo e cálculo das estatísticas de outros arquivos\n",
    "import grafo\n",
    "import estatisticas"
   ]
  },
  {
   "cell_type": "code",
   "execution_count": 2,
   "id": "17eff969",
   "metadata": {},
   "outputs": [],
   "source": [
    "# Leitura dos dados de um arquivo\n",
    "graph = grafo.read_graph('BHW1.dat')"
   ]
  },
  {
   "cell_type": "code",
   "execution_count": 3,
   "id": "94fb7afa",
   "metadata": {},
   "outputs": [
    {
     "name": "stdout",
     "output_type": "stream",
     "text": [
      "{'vertices': 12, 'edges': 10, 'arcs': 20, 'required_vertices': 7, 'required_edges': 10, 'required_arcs': 10, 'density': 0.22727272727272727, 'connected_components': 1, 'min_degree': 2, 'max_degree': 8, 'average_path_length': 1.9545454545454546, 'diameter': 4, 'betweenness': defaultdict(<class 'int'>, {'1': 30, '4': 18, '5': 16, '7': 8, '10': 14, '12': 14, '9': 6, '3': 4, '11': 10, '8': 2, '2': 4})}\n"
     ]
    }
   ],
   "source": [
    "# Cálculo e apresentação das estatísticas\n",
    "stats = estatisticas.compute_statistics(graph)\n",
    "print(stats)"
   ]
  }
 ],
 "metadata": {
  "kernelspec": {
   "display_name": "Python 3",
   "language": "python",
   "name": "python3"
  },
  "language_info": {
   "codemirror_mode": {
    "name": "ipython",
    "version": 3
   },
   "file_extension": ".py",
   "mimetype": "text/x-python",
   "name": "python",
   "nbconvert_exporter": "python",
   "pygments_lexer": "ipython3",
   "version": "3.14.0"
  }
 },
 "nbformat": 4,
 "nbformat_minor": 5
}
