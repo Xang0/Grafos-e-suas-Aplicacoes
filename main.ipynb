{
 "cells": [
  {
   "cell_type": "markdown",
   "id": "1531dab8",
   "metadata": {},
   "source": [
    "# Etapa 1"
   ]
  },
  {
   "cell_type": "code",
   "execution_count": 4,
   "id": "af51b369",
   "metadata": {},
   "outputs": [],
   "source": [
    "# Importando as funções para leitura do arquivo e cálculo das estatísticas de outros arquivos\n",
    "import grafo\n",
    "import estatisticas"
   ]
  },
  {
   "cell_type": "code",
   "execution_count": 5,
   "id": "53ca27aa",
   "metadata": {},
   "outputs": [],
   "source": [
    "# Leitura dos dados de um arquivo\n",
    "graph = grafo.read_graph('dados.txt')"
   ]
  },
  {
   "cell_type": "code",
   "execution_count": 6,
   "id": "94fb7afa",
   "metadata": {},
   "outputs": [
    {
     "name": "stdout",
     "output_type": "stream",
     "text": [
      "{'vertices': 4, 'edges': 2, 'arcs': 1, 'required_vertices': 1, 'required_edges': 1, 'required_arcs': 1, 'density': 0.25, 'connected_components': 1, 'min_degree': 1, 'max_degree': 2, 'average_path_length': 1.5555555555555556, 'diameter': 3, 'betweenness': defaultdict(<class 'int'>, {'B': 3, 'C': 2})}\n"
     ]
    }
   ],
   "source": [
    "# Cálculo e apresentação das estatísticas\n",
    "stats = estatisticas.compute_statistics(graph)\n",
    "print(stats)"
   ]
  }
 ],
 "metadata": {
  "kernelspec": {
   "display_name": "Python 3",
   "language": "python",
   "name": "python3"
  },
  "language_info": {
   "codemirror_mode": {
    "name": "ipython",
    "version": 3
   },
   "file_extension": ".py",
   "mimetype": "text/x-python",
   "name": "python",
   "nbconvert_exporter": "python",
   "pygments_lexer": "ipython3",
   "version": "3.14.0a1+"
  }
 },
 "nbformat": 4,
 "nbformat_minor": 5
}
