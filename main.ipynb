{
 "cells": [
  {
   "cell_type": "markdown",
   "id": "1531dab8",
   "metadata": {},
   "source": [
    "# Etapa 1"
   ]
  },
  {
   "cell_type": "code",
   "execution_count": null,
   "id": "af51b369",
   "metadata": {},
   "outputs": [],
   "source": [
    "# Importando as funções para leitura do arquivo e cálculo das estatísticas de outros arquivos\n",
    "import grafo\n",
    "import estatisticas"
   ]
  },
  {
   "cell_type": "code",
   "execution_count": null,
   "id": "53ca27aa",
   "metadata": {},
   "outputs": [],
   "source": [
    "# Leitura dos dados de um arquivo\n",
    "graph = grafo.read_graph('dados.txt')"
   ]
  },
  {
   "cell_type": "code",
   "execution_count": null,
   "id": "94fb7afa",
   "metadata": {},
   "outputs": [],
   "source": [
    "# Cálculo e apresentação das estatísticas\n",
    "estatisticas = floyd_warshall(grafo)\n",
    "print(estatisticas)"
   ]
  }
 ],
 "metadata": {
  "kernelspec": {
   "display_name": "Python 3",
   "language": "python",
   "name": "python3"
  },
  "language_info": {
   "codemirror_mode": {
    "name": "ipython",
    "version": 3
   },
   "file_extension": ".py",
   "mimetype": "text/x-python",
   "name": "python",
   "nbconvert_exporter": "python",
   "pygments_lexer": "ipython3",
   "version": "3.14.0a1+"
  }
 },
 "nbformat": 4,
 "nbformat_minor": 5
}
