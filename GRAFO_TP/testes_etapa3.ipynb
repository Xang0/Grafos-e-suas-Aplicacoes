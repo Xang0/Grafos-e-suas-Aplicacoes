{
  "cells": [
    {
      "cell_type": "markdown",
      "metadata": {},
      "source": [
        "# Comparação das Soluções – Etapas 2 e 3\n",
        "\n",
        "Este notebook executa e compara as soluções obtidas pela heurística de Clarke & Wright (Etapa 2) e após aplicação de melhorias locais (Etapa 3).\n",
        "\n",
        "Para cada instância, mostraremos o custo total da solução e o número de rotas utilizadas."
      ]
    },
    {
      "cell_type": "code",
      "execution_count": null,
      "metadata": {},
      "outputs": [],
      "source": [
        "from etapa2 import solve as solve_etapa2\n",
        "from etapa3 import solve_with_improvement as solve_etapa3\n",
        "\n",
        "# Lista de instâncias a serem testadas\n",
        "instances = [\n",
        "    'BHW1.dat',\n",
        "    'BHW2.dat',\n",
        "    'gdb1.dat',\n",
        "    'gdb2.dat'\n",
        "]\n",
        "\n",
        "print(f\"{'Instância':<15} | {'Etapa 2 (Custo)'} | {'Etapa 3 (Custo)'} | {'Δ Custo'}\")\n",
        "print(\"-\" * 60)\n",
        "\n",
        "for instance in instances:\n",
        "    try:\n",
        "        sol2 = solve_etapa2(instance)\n",
        "        sol3 = solve_etapa3(instance)\n",
        "        custo2 = int(sol2.splitlines()[0])\n",
        "        custo3 = int(sol3.splitlines()[0])\n",
        "        delta = custo2 - custo3\n",
        "        print(f\"{instance:<15} | {custo2:<17} | {custo3:<17} | {delta:+}\")\n",
        "    except Exception as e:\n",
        "        print(f\"{instance:<15} | Erro: {e}\")"
      ]
    }
  ],
  "metadata": {
    "kernelspec": {
      "display_name": "Python 3",
      "language": "python",
      "name": "python3"
    },
    "language_info": {
      "name": "python",
      "version": "3.8"
    }
  },
  "nbformat": 4,
  "nbformat_minor": 2
}
