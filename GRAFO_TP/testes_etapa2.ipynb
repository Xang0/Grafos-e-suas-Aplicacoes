{
  "cells": [
    {
      "cell_type": "markdown",
      "metadata": {},
      "source": [
        "# Testes Automatizados \u2013 Etapa 2\n",
        "\n",
        "Este notebook executa o algoritmo de Clarke & Wright em m\u00faltiplas inst\u00e2ncias do problema CARP.\n",
        "As solu\u00e7\u00f5es geradas s\u00e3o exibidas junto com seus respectivos custos totais."
      ]
    },
    {
      "cell_type": "code",
      "metadata": {},
      "source": [
        "import os\n",
        "from etapa2_refatorado import solve\n",
        "\n",
        "# Lista de inst\u00e2ncias de teste\n",
        "instances = [\n",
        "    'BHW1.dat',\n",
        "    'BHW2.dat',\n",
        "    'gdb1.dat',\n",
        "    'gdb2.dat'\n",
        "]\n",
        "\n",
        "# Executa e exibe o custo total da solu\u00e7\u00e3o para cada inst\u00e2ncia\n",
        "for instance in instances:\n",
        "    if not os.path.exists(instance):\n",
        "        print(f\"\u26a0\ufe0f Inst\u00e2ncia {instance} n\u00e3o encontrada.\")\n",
        "        continue\n",
        "    print(f\"\\n\ud83e\uddea Executando para: {instance}\")\n",
        "    solution = solve(instance)\n",
        "    linhas = solution.splitlines()\n",
        "    custo_total = linhas[0]\n",
        "    n_rotas = linhas[1]\n",
        "    print(f\"Custo Total: {custo_total} | N\u00ba de Rotas: {n_rotas}\")"
      ]
    }
  ],
  "metadata": {
    "kernelspec": {
      "display_name": "Python 3",
      "language": "python",
      "name": "python3"
    },
    "language_info": {
      "name": "python",
      "version": "3.8"
    }
  },
  "nbformat": 4,
  "nbformat_minor": 2
}